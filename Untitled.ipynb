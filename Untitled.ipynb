{
 "cells": [
  {
   "cell_type": "code",
   "execution_count": 7,
   "metadata": {},
   "outputs": [
    {
     "data": {
      "text/html": [
       "<table>\n",
       "<caption>A tibble: 3 × 13</caption>\n",
       "<thead>\n",
       "\t<tr><th scope=col>cliente</th><th scope=col>Año-Mes</th><th scope=col>plataforma_abreviacion</th><th scope=col>inicio_reporte</th><th scope=col>fin_reporte</th><th scope=col>tipo_conversion</th><th scope=col>fuente_medio</th><th scope=col>Nombre_Campaña</th><th scope=col>llave_analytcis</th><th scope=col>conversiones</th><th scope=col>revenue</th><th scope=col>archivo</th><th scope=col>ultima_actualizacion</th></tr>\n",
       "\t<tr><th scope=col>&lt;chr&gt;</th><th scope=col>&lt;chr&gt;</th><th scope=col>&lt;chr&gt;</th><th scope=col>&lt;dttm&gt;</th><th scope=col>&lt;dttm&gt;</th><th scope=col>&lt;chr&gt;</th><th scope=col>&lt;chr&gt;</th><th scope=col>&lt;chr&gt;</th><th scope=col>&lt;chr&gt;</th><th scope=col>&lt;dbl&gt;</th><th scope=col>&lt;dbl&gt;</th><th scope=col>&lt;chr&gt;</th><th scope=col>&lt;dttm&gt;</th></tr>\n",
       "</thead>\n",
       "<tbody>\n",
       "\t<tr><td>Office Depot</td><td>2001_Enero</td><td>SEM</td><td>2020-01-01</td><td>2020-01-31</td><td>Asistida</td><td>adsocialsem / 1911_od_copycenter_sem            </td><td>1911_OD_CopyCenter_SEM                      </td><td>NA                                   </td><td> 2</td><td> 3274.000</td><td>/home/carlos/Dropbox/ROAS 2020/2001_Enero/Mensual/Analytics www.officedepot.com.mx_ Conversiones asistidas 20200101-20200131.csv</td><td>2020-04-30 11:52:23</td></tr>\n",
       "\t<tr><td>Office Depot</td><td>2001_Enero</td><td>FB </td><td>2020-01-01</td><td>2020-01-31</td><td>Directa </td><td>adsocial_fb / 1911_od_mkt_buen_fin_fb_dpa       </td><td>1911_OD_MKT_Buen_Fin_FB                     </td><td>2001_od_ao-ecomm_pi_pfm_fb_2020-01-01</td><td>12</td><td> 2341.962</td><td>/home/carlos/Dropbox/ROAS 2020/2001_Enero/Mensual/Analytics www.officedepot.com.mx_ Todo el tráfico 20200101-20200131.xlsx      </td><td>2020-04-30 11:52:23</td></tr>\n",
       "\t<tr><td>Office Depot</td><td>2001_Enero</td><td>FB </td><td>2020-01-01</td><td>2020-01-31</td><td>Asistida</td><td>adsocial_fb / 1911_od_mkt_venta_nocturna_fb_dada</td><td>1911_OD_MKT_VENTA_NOCTURNA_28_Y_29_DE_NOV_FB</td><td>2001_od_ao-ecomm_pi_pfm_fb_2020-01-01</td><td> 4</td><td>23736.200</td><td>/home/carlos/Dropbox/ROAS 2020/2001_Enero/Mensual/Analytics www.officedepot.com.mx_ Conversiones asistidas 20200101-20200131.csv</td><td>2020-04-30 11:52:23</td></tr>\n",
       "</tbody>\n",
       "</table>\n"
      ],
      "text/latex": [
       "A tibble: 3 × 13\n",
       "\\begin{tabular}{lllllllllllll}\n",
       " cliente & Año-Mes & plataforma\\_abreviacion & inicio\\_reporte & fin\\_reporte & tipo\\_conversion & fuente\\_medio & Nombre\\_Campaña & llave\\_analytcis & conversiones & revenue & archivo & ultima\\_actualizacion\\\\\n",
       " <chr> & <chr> & <chr> & <dttm> & <dttm> & <chr> & <chr> & <chr> & <chr> & <dbl> & <dbl> & <chr> & <dttm>\\\\\n",
       "\\hline\n",
       "\t Office Depot & 2001\\_Enero & SEM & 2020-01-01 & 2020-01-31 & Asistida & adsocialsem / 1911\\_od\\_copycenter\\_sem             & 1911\\_OD\\_CopyCenter\\_SEM                       & NA                                    &  2 &  3274.000 & /home/carlos/Dropbox/ROAS 2020/2001\\_Enero/Mensual/Analytics www.officedepot.com.mx\\_ Conversiones asistidas 20200101-20200131.csv & 2020-04-30 11:52:23\\\\\n",
       "\t Office Depot & 2001\\_Enero & FB  & 2020-01-01 & 2020-01-31 & Directa  & adsocial\\_fb / 1911\\_od\\_mkt\\_buen\\_fin\\_fb\\_dpa        & 1911\\_OD\\_MKT\\_Buen\\_Fin\\_FB                      & 2001\\_od\\_ao-ecomm\\_pi\\_pfm\\_fb\\_2020-01-01 & 12 &  2341.962 & /home/carlos/Dropbox/ROAS 2020/2001\\_Enero/Mensual/Analytics www.officedepot.com.mx\\_ Todo el tráfico 20200101-20200131.xlsx       & 2020-04-30 11:52:23\\\\\n",
       "\t Office Depot & 2001\\_Enero & FB  & 2020-01-01 & 2020-01-31 & Asistida & adsocial\\_fb / 1911\\_od\\_mkt\\_venta\\_nocturna\\_fb\\_dada & 1911\\_OD\\_MKT\\_VENTA\\_NOCTURNA\\_28\\_Y\\_29\\_DE\\_NOV\\_FB & 2001\\_od\\_ao-ecomm\\_pi\\_pfm\\_fb\\_2020-01-01 &  4 & 23736.200 & /home/carlos/Dropbox/ROAS 2020/2001\\_Enero/Mensual/Analytics www.officedepot.com.mx\\_ Conversiones asistidas 20200101-20200131.csv & 2020-04-30 11:52:23\\\\\n",
       "\\end{tabular}\n"
      ],
      "text/markdown": [
       "\n",
       "A tibble: 3 × 13\n",
       "\n",
       "| cliente &lt;chr&gt; | Año-Mes &lt;chr&gt; | plataforma_abreviacion &lt;chr&gt; | inicio_reporte &lt;dttm&gt; | fin_reporte &lt;dttm&gt; | tipo_conversion &lt;chr&gt; | fuente_medio &lt;chr&gt; | Nombre_Campaña &lt;chr&gt; | llave_analytcis &lt;chr&gt; | conversiones &lt;dbl&gt; | revenue &lt;dbl&gt; | archivo &lt;chr&gt; | ultima_actualizacion &lt;dttm&gt; |\n",
       "|---|---|---|---|---|---|---|---|---|---|---|---|---|\n",
       "| Office Depot | 2001_Enero | SEM | 2020-01-01 | 2020-01-31 | Asistida | adsocialsem / 1911_od_copycenter_sem             | 1911_OD_CopyCenter_SEM                       | NA                                    |  2 |  3274.000 | /home/carlos/Dropbox/ROAS 2020/2001_Enero/Mensual/Analytics www.officedepot.com.mx_ Conversiones asistidas 20200101-20200131.csv | 2020-04-30 11:52:23 |\n",
       "| Office Depot | 2001_Enero | FB  | 2020-01-01 | 2020-01-31 | Directa  | adsocial_fb / 1911_od_mkt_buen_fin_fb_dpa        | 1911_OD_MKT_Buen_Fin_FB                      | 2001_od_ao-ecomm_pi_pfm_fb_2020-01-01 | 12 |  2341.962 | /home/carlos/Dropbox/ROAS 2020/2001_Enero/Mensual/Analytics www.officedepot.com.mx_ Todo el tráfico 20200101-20200131.xlsx       | 2020-04-30 11:52:23 |\n",
       "| Office Depot | 2001_Enero | FB  | 2020-01-01 | 2020-01-31 | Asistida | adsocial_fb / 1911_od_mkt_venta_nocturna_fb_dada | 1911_OD_MKT_VENTA_NOCTURNA_28_Y_29_DE_NOV_FB | 2001_od_ao-ecomm_pi_pfm_fb_2020-01-01 |  4 | 23736.200 | /home/carlos/Dropbox/ROAS 2020/2001_Enero/Mensual/Analytics www.officedepot.com.mx_ Conversiones asistidas 20200101-20200131.csv | 2020-04-30 11:52:23 |\n",
       "\n"
      ],
      "text/plain": [
       "  cliente      Año-Mes    plataforma_abreviacion inicio_reporte fin_reporte\n",
       "1 Office Depot 2001_Enero SEM                    2020-01-01     2020-01-31 \n",
       "2 Office Depot 2001_Enero FB                     2020-01-01     2020-01-31 \n",
       "3 Office Depot 2001_Enero FB                     2020-01-01     2020-01-31 \n",
       "  tipo_conversion fuente_medio                                    \n",
       "1 Asistida        adsocialsem / 1911_od_copycenter_sem            \n",
       "2 Directa         adsocial_fb / 1911_od_mkt_buen_fin_fb_dpa       \n",
       "3 Asistida        adsocial_fb / 1911_od_mkt_venta_nocturna_fb_dada\n",
       "  Nombre_Campaña                              \n",
       "1 1911_OD_CopyCenter_SEM                      \n",
       "2 1911_OD_MKT_Buen_Fin_FB                     \n",
       "3 1911_OD_MKT_VENTA_NOCTURNA_28_Y_29_DE_NOV_FB\n",
       "  llave_analytcis                       conversiones revenue  \n",
       "1 NA                                     2            3274.000\n",
       "2 2001_od_ao-ecomm_pi_pfm_fb_2020-01-01 12            2341.962\n",
       "3 2001_od_ao-ecomm_pi_pfm_fb_2020-01-01  4           23736.200\n",
       "  archivo                                                                                                                         \n",
       "1 /home/carlos/Dropbox/ROAS 2020/2001_Enero/Mensual/Analytics www.officedepot.com.mx_ Conversiones asistidas 20200101-20200131.csv\n",
       "2 /home/carlos/Dropbox/ROAS 2020/2001_Enero/Mensual/Analytics www.officedepot.com.mx_ Todo el tráfico 20200101-20200131.xlsx      \n",
       "3 /home/carlos/Dropbox/ROAS 2020/2001_Enero/Mensual/Analytics www.officedepot.com.mx_ Conversiones asistidas 20200101-20200131.csv\n",
       "  ultima_actualizacion\n",
       "1 2020-04-30 11:52:23 \n",
       "2 2020-04-30 11:52:23 \n",
       "3 2020-04-30 11:52:23 "
      ]
     },
     "metadata": {},
     "output_type": "display_data"
    }
   ],
   "source": []
  },
  {
   "cell_type": "code",
   "execution_count": null,
   "metadata": {},
   "outputs": [],
   "source": []
  }
 ],
 "metadata": {
  "kernelspec": {
   "display_name": "R",
   "language": "R",
   "name": "ir"
  },
  "language_info": {
   "codemirror_mode": "r",
   "file_extension": ".r",
   "mimetype": "text/x-r-source",
   "name": "R",
   "pygments_lexer": "r",
   "version": "3.6.2"
  }
 },
 "nbformat": 4,
 "nbformat_minor": 4
}
